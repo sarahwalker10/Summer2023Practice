{
 "cells": [
  {
   "cell_type": "code",
   "execution_count": 1,
   "id": "18b6424b-74c1-44db-8afd-9ca3619064ef",
   "metadata": {
    "tags": []
   },
   "outputs": [],
   "source": [
    "import geopandas as gpd\n",
    "import pandas as pd"
   ]
  },
  {
   "cell_type": "markdown",
   "id": "0247ec3c-5705-45ce-8ab0-c669e4eeee78",
   "metadata": {},
   "source": [
    "# Normalizing chemical use in pesticides"
   ]
  },
  {
   "cell_type": "code",
   "execution_count": 2,
   "id": "a72c82cb-cf0c-49a4-9c50-bbe59bdef489",
   "metadata": {
    "tags": []
   },
   "outputs": [],
   "source": [
    "#read in the cleaned data for the ag information\n",
    "ag_pesticides = gpd.read_parquet(\"importing_ag_data/ag_pesticides.parquet\")"
   ]
  },
  {
   "cell_type": "code",
   "execution_count": 3,
   "id": "937bd814-c266-459d-a26b-2257f124eda9",
   "metadata": {
    "tags": []
   },
   "outputs": [],
   "source": [
    "#create new column called pct_chem_used that standardizes the amount of chemicals applied in each row\n",
    "ag_pesticides.loc[:, \"pct_chem_used\"] = ag_pesticides.loc[:, \"lbs_chm_used\"] / ag_pesticides.loc[:,\"lbs_prd_used\"]"
   ]
  },
  {
   "cell_type": "code",
   "execution_count": 4,
   "id": "e759e1d7-ea7f-440e-b9e3-889d70423caf",
   "metadata": {
    "tags": []
   },
   "outputs": [],
   "source": [
    "#replace null values with 0.0 to keep the column as a float\n",
    "ag_pesticides.loc[ag_pesticides.loc[:, \"pct_chem_used\"].isna(), \"pct_chem_used\"]  = 0.0"
   ]
  },
  {
   "cell_type": "code",
   "execution_count": 5,
   "id": "08642467-c611-4438-b777-be56edebbe1c",
   "metadata": {
    "tags": []
   },
   "outputs": [
    {
     "data": {
      "text/html": [
       "<div>\n",
       "<style scoped>\n",
       "    .dataframe tbody tr th:only-of-type {\n",
       "        vertical-align: middle;\n",
       "    }\n",
       "\n",
       "    .dataframe tbody tr th {\n",
       "        vertical-align: top;\n",
       "    }\n",
       "\n",
       "    .dataframe thead th {\n",
       "        text-align: right;\n",
       "    }\n",
       "</style>\n",
       "<table border=\"1\" class=\"dataframe\">\n",
       "  <thead>\n",
       "    <tr style=\"text-align: right;\">\n",
       "      <th></th>\n",
       "      <th>use_no</th>\n",
       "      <th>geometry</th>\n",
       "      <th>lbs_chm_used</th>\n",
       "      <th>lbs_prd_used</th>\n",
       "      <th>acre_planted</th>\n",
       "      <th>acre_treated</th>\n",
       "      <th>applic_dt</th>\n",
       "      <th>applic_time</th>\n",
       "      <th>site_loc_id</th>\n",
       "      <th>aer_gnd_ind</th>\n",
       "      <th>chemname</th>\n",
       "      <th>REGIONNAME</th>\n",
       "      <th>site_name</th>\n",
       "      <th>county_name</th>\n",
       "      <th>month</th>\n",
       "      <th>day</th>\n",
       "      <th>pct_chem_used</th>\n",
       "    </tr>\n",
       "  </thead>\n",
       "  <tbody>\n",
       "    <tr>\n",
       "      <th>0</th>\n",
       "      <td>956467</td>\n",
       "      <td>POLYGON ((-122.79807 38.66381, -122.79169 38.6...</td>\n",
       "      <td>6.216000</td>\n",
       "      <td>7.7700</td>\n",
       "      <td>169.53</td>\n",
       "      <td>2.59</td>\n",
       "      <td>04/08/2020</td>\n",
       "      <td>1630.0</td>\n",
       "      <td>1</td>\n",
       "      <td>G</td>\n",
       "      <td>SULFUR</td>\n",
       "      <td>NORTH COAST</td>\n",
       "      <td>GRAPE, WINE</td>\n",
       "      <td>Sonoma</td>\n",
       "      <td>04</td>\n",
       "      <td>08</td>\n",
       "      <td>0.800</td>\n",
       "    </tr>\n",
       "    <tr>\n",
       "      <th>1</th>\n",
       "      <td>956473</td>\n",
       "      <td>POLYGON ((-122.79807 38.66381, -122.79169 38.6...</td>\n",
       "      <td>10.680000</td>\n",
       "      <td>13.3500</td>\n",
       "      <td>169.53</td>\n",
       "      <td>4.45</td>\n",
       "      <td>04/08/2020</td>\n",
       "      <td>1630.0</td>\n",
       "      <td>1</td>\n",
       "      <td>G</td>\n",
       "      <td>SULFUR</td>\n",
       "      <td>NORTH COAST</td>\n",
       "      <td>GRAPE, WINE</td>\n",
       "      <td>Sonoma</td>\n",
       "      <td>04</td>\n",
       "      <td>08</td>\n",
       "      <td>0.800</td>\n",
       "    </tr>\n",
       "    <tr>\n",
       "      <th>2</th>\n",
       "      <td>950977</td>\n",
       "      <td>POLYGON ((-122.44568 38.15707, -122.44565 38.1...</td>\n",
       "      <td>NaN</td>\n",
       "      <td>0.0023</td>\n",
       "      <td>142.00</td>\n",
       "      <td>0.43</td>\n",
       "      <td>04/10/2020</td>\n",
       "      <td>811.0</td>\n",
       "      <td>131</td>\n",
       "      <td>G</td>\n",
       "      <td>None</td>\n",
       "      <td>SAN FRANCISCO BAY</td>\n",
       "      <td>GRAPE, WINE</td>\n",
       "      <td>Sonoma</td>\n",
       "      <td>04</td>\n",
       "      <td>10</td>\n",
       "      <td>0.000</td>\n",
       "    </tr>\n",
       "    <tr>\n",
       "      <th>3</th>\n",
       "      <td>950981</td>\n",
       "      <td>POLYGON ((-122.44568 38.15707, -122.44565 38.1...</td>\n",
       "      <td>0.015974</td>\n",
       "      <td>0.0652</td>\n",
       "      <td>142.00</td>\n",
       "      <td>0.49</td>\n",
       "      <td>04/10/2020</td>\n",
       "      <td>821.0</td>\n",
       "      <td>131</td>\n",
       "      <td>G</td>\n",
       "      <td>GLUFOSINATE-AMMONIUM</td>\n",
       "      <td>SAN FRANCISCO BAY</td>\n",
       "      <td>GRAPE, WINE</td>\n",
       "      <td>Sonoma</td>\n",
       "      <td>04</td>\n",
       "      <td>10</td>\n",
       "      <td>0.245</td>\n",
       "    </tr>\n",
       "    <tr>\n",
       "      <th>4</th>\n",
       "      <td>950993</td>\n",
       "      <td>POLYGON ((-122.85427 38.51788, -122.84768 38.5...</td>\n",
       "      <td>3.324537</td>\n",
       "      <td>3.9625</td>\n",
       "      <td>27.50</td>\n",
       "      <td>3.17</td>\n",
       "      <td>04/15/2020</td>\n",
       "      <td>650.0</td>\n",
       "      <td>115</td>\n",
       "      <td>G</td>\n",
       "      <td>COPPER OXIDE (OUS)</td>\n",
       "      <td>NORTH COAST</td>\n",
       "      <td>GRAPE, WINE</td>\n",
       "      <td>Sonoma</td>\n",
       "      <td>04</td>\n",
       "      <td>15</td>\n",
       "      <td>0.839</td>\n",
       "    </tr>\n",
       "  </tbody>\n",
       "</table>\n",
       "</div>"
      ],
      "text/plain": [
       "   use_no                                           geometry  lbs_chm_used  \\\n",
       "0  956467  POLYGON ((-122.79807 38.66381, -122.79169 38.6...      6.216000   \n",
       "1  956473  POLYGON ((-122.79807 38.66381, -122.79169 38.6...     10.680000   \n",
       "2  950977  POLYGON ((-122.44568 38.15707, -122.44565 38.1...           NaN   \n",
       "3  950981  POLYGON ((-122.44568 38.15707, -122.44565 38.1...      0.015974   \n",
       "4  950993  POLYGON ((-122.85427 38.51788, -122.84768 38.5...      3.324537   \n",
       "\n",
       "   lbs_prd_used  acre_planted  acre_treated   applic_dt  applic_time  \\\n",
       "0        7.7700        169.53          2.59  04/08/2020       1630.0   \n",
       "1       13.3500        169.53          4.45  04/08/2020       1630.0   \n",
       "2        0.0023        142.00          0.43  04/10/2020        811.0   \n",
       "3        0.0652        142.00          0.49  04/10/2020        821.0   \n",
       "4        3.9625         27.50          3.17  04/15/2020        650.0   \n",
       "\n",
       "  site_loc_id aer_gnd_ind              chemname         REGIONNAME  \\\n",
       "0           1           G                SULFUR        NORTH COAST   \n",
       "1           1           G                SULFUR        NORTH COAST   \n",
       "2         131           G                  None  SAN FRANCISCO BAY   \n",
       "3         131           G  GLUFOSINATE-AMMONIUM  SAN FRANCISCO BAY   \n",
       "4         115           G    COPPER OXIDE (OUS)        NORTH COAST   \n",
       "\n",
       "     site_name county_name month day  pct_chem_used  \n",
       "0  GRAPE, WINE      Sonoma    04  08          0.800  \n",
       "1  GRAPE, WINE      Sonoma    04  08          0.800  \n",
       "2  GRAPE, WINE      Sonoma    04  10          0.000  \n",
       "3  GRAPE, WINE      Sonoma    04  10          0.245  \n",
       "4  GRAPE, WINE      Sonoma    04  15          0.839  "
      ]
     },
     "execution_count": 5,
     "metadata": {},
     "output_type": "execute_result"
    }
   ],
   "source": [
    "ag_pesticides.head()"
   ]
  },
  {
   "cell_type": "code",
   "execution_count": 6,
   "id": "e11f58bf-aaf2-487e-ab2b-2af19bff2af5",
   "metadata": {
    "tags": []
   },
   "outputs": [],
   "source": [
    "#use this function to find the avg pct_chem_used values for non-null entries in each group (group by county and site)\n",
    "def avgs_to_dict(df):\n",
    "    '''\n",
    "    Creates a dictionary that assigns each grouped county and site to its average percent of chemicals (for non-null entries)\n",
    "    \n",
    "    inputs: dataframe \n",
    "    outputs: dictionary\n",
    "    '''\n",
    "    non_null_copy = df.loc[~(df.loc[:, \"lbs_chm_used\"].isna()), [\"county_name\", \"site_name\", \"site_loc_id\", \"lbs_prd_used\", \"lbs_chm_used\"]].copy()\n",
    "    non_null_copy.loc[:, \"non_null_pct\"] =  non_null_copy.loc[:, \"lbs_chm_used\"] / non_null_copy.loc[:, \"lbs_prd_used\"]\n",
    "    return non_null_copy.groupby([\"county_name\", \"site_name\"]).agg({\"non_null_pct\":\"mean\"}).to_dict()[\"non_null_pct\"]\n",
    "  \n",
    "#create the dictionary with the averages for each group\n",
    "fill_dict = avgs_to_dict(ag_pesticides)"
   ]
  },
  {
   "cell_type": "code",
   "execution_count": 7,
   "id": "fbf15364-8341-4aa6-851d-f74c69a6b9e0",
   "metadata": {
    "tags": []
   },
   "outputs": [],
   "source": [
    "#for the few entries that have no non-null entries for each group, \n",
    "# fill in with the average pct_chem_used for the county alone\n",
    "\n",
    "fill_dict[('Madera', 'INDUSTRIAL HEMP')] = ag_pesticides.loc[ag_pesticides.loc[:, \"county_name\"]=='Madera', \"pct_chem_used\"].mean()\n",
    "fill_dict[('San Luis Obispo', 'UNKNOWN')] = ag_pesticides.loc[ag_pesticides.loc[:, \"county_name\"]=='San Luis Obispo', \"pct_chem_used\"].mean()\n",
    "fill_dict[('El Dorado', 'BOYSENBERRY')] = ag_pesticides.loc[ag_pesticides.loc[:, \"county_name\"]=='El Dorado', \"pct_chem_used\"].mean()\n",
    "fill_dict[('Monterey', 'PASTURELAND')] = ag_pesticides.loc[ag_pesticides.loc[:, \"county_name\"]=='Monterey', \"pct_chem_used\"].mean()"
   ]
  },
  {
   "cell_type": "code",
   "execution_count": 8,
   "id": "4ff69c67-5b97-4d12-b4a2-23ce8d51a910",
   "metadata": {
    "tags": []
   },
   "outputs": [],
   "source": [
    "#fill in each 0.0 pct_chem_used entry with the average pct_chem_used for its group (found in the dictionary)\n",
    "\n",
    "#takes about 5 min to run and uses less memory\n",
    "for index in range(ag_pesticides.shape[0]):\n",
    "    if ag_pesticides.loc[index, 'pct_chem_used'] == 0.0:\n",
    "        ag_pesticides.loc[index, 'pct_chem_used'] = fill_dict[(ag_pesticides.loc[index, \"county_name\"], \n",
    "                                                              ag_pesticides.loc[index, \"site_name\"])]"
   ]
  },
  {
   "cell_type": "code",
   "execution_count": 8,
   "id": "f52dc756-6dab-4399-ad32-a6debd7df686",
   "metadata": {
    "tags": []
   },
   "outputs": [],
   "source": [
    "#This is another method to fill in the missing pct_chem_used values, but it is more expensive\n",
    "\n",
    "# #takes about 8 minutes to run \n",
    "\n",
    "# for index, row in ag_pesticides.iterrows():\n",
    "#     if row[\"pct_chem_used\"] == 0.0:\n",
    "#         group_tuple = (row[\"county_name\"], row[\"site_name\"])\n",
    "#         ag_pesticides.loc[index, 'pct_chem_used'] = fill_dict[group_tuple]\n",
    "            "
   ]
  },
  {
   "cell_type": "code",
   "execution_count": 9,
   "id": "3ecbcb5f-2213-424f-bd9b-7d9b6f78c7b5",
   "metadata": {
    "tags": []
   },
   "outputs": [
    {
     "data": {
      "text/html": [
       "<div>\n",
       "<style scoped>\n",
       "    .dataframe tbody tr th:only-of-type {\n",
       "        vertical-align: middle;\n",
       "    }\n",
       "\n",
       "    .dataframe tbody tr th {\n",
       "        vertical-align: top;\n",
       "    }\n",
       "\n",
       "    .dataframe thead th {\n",
       "        text-align: right;\n",
       "    }\n",
       "</style>\n",
       "<table border=\"1\" class=\"dataframe\">\n",
       "  <thead>\n",
       "    <tr style=\"text-align: right;\">\n",
       "      <th></th>\n",
       "      <th>use_no</th>\n",
       "      <th>geometry</th>\n",
       "      <th>lbs_chm_used</th>\n",
       "      <th>lbs_prd_used</th>\n",
       "      <th>acre_planted</th>\n",
       "      <th>acre_treated</th>\n",
       "      <th>applic_dt</th>\n",
       "      <th>applic_time</th>\n",
       "      <th>site_loc_id</th>\n",
       "      <th>aer_gnd_ind</th>\n",
       "      <th>chemname</th>\n",
       "      <th>REGIONNAME</th>\n",
       "      <th>site_name</th>\n",
       "      <th>county_name</th>\n",
       "      <th>month</th>\n",
       "      <th>day</th>\n",
       "      <th>pct_chem_used</th>\n",
       "    </tr>\n",
       "  </thead>\n",
       "  <tbody>\n",
       "  </tbody>\n",
       "</table>\n",
       "</div>"
      ],
      "text/plain": [
       "Empty GeoDataFrame\n",
       "Columns: [use_no, geometry, lbs_chm_used, lbs_prd_used, acre_planted, acre_treated, applic_dt, applic_time, site_loc_id, aer_gnd_ind, chemname, REGIONNAME, site_name, county_name, month, day, pct_chem_used]\n",
       "Index: []"
      ]
     },
     "execution_count": 9,
     "metadata": {},
     "output_type": "execute_result"
    }
   ],
   "source": [
    "#sanity check to make sure the loop worked to fill in the missing values\n",
    "ag_pesticides[ag_pesticides[\"pct_chem_used\"]==0.0]"
   ]
  },
  {
   "cell_type": "code",
   "execution_count": null,
   "id": "7cf5e5f7-ebb1-4ee5-913e-9216aded0060",
   "metadata": {},
   "outputs": [],
   "source": [
    "ag_pesticides.head()"
   ]
  },
  {
   "cell_type": "code",
   "execution_count": 10,
   "id": "aa98279b-1063-4fe3-94cf-0c5df0588a43",
   "metadata": {},
   "outputs": [],
   "source": [
    "#save the modified df to its own file so that I can save these changes without having to run this code again\n",
    "ag_pesticides.to_parquet(path=\"../CA_Pesticide_Project/ag_pesticides_modified.parquet\")"
   ]
  },
  {
   "cell_type": "code",
   "execution_count": null,
   "id": "ebf30185-fa05-4abe-b1e5-72481dab5c70",
   "metadata": {},
   "outputs": [],
   "source": []
  }
 ],
 "metadata": {
  "kernelspec": {
   "display_name": "Python 3 (ipykernel)",
   "language": "python",
   "name": "python3"
  },
  "language_info": {
   "codemirror_mode": {
    "name": "ipython",
    "version": 3
   },
   "file_extension": ".py",
   "mimetype": "text/x-python",
   "name": "python",
   "nbconvert_exporter": "python",
   "pygments_lexer": "ipython3",
   "version": "3.9.7"
  }
 },
 "nbformat": 4,
 "nbformat_minor": 5
}

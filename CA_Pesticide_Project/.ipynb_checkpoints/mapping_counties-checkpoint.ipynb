{
 "cells": [
  {
   "cell_type": "code",
   "execution_count": null,
   "id": "c13dd090-61d0-49f0-8934-d9d78c3bc48a",
   "metadata": {},
   "outputs": [],
   "source": [
    "import geopandas as gpd\n",
    "import pandas as pd"
   ]
  },
  {
   "cell_type": "code",
   "execution_count": null,
   "id": "d9b41b5c-2732-4a64-abc6-f9f8ba66ad6e",
   "metadata": {},
   "outputs": [],
   "source": [
    "counties = gpd.read_file(\"/srv/data/my_shared_data_folder/cpr/california_counties.gpkg\")\n",
    "counties.head()"
   ]
  },
  {
   "cell_type": "code",
   "execution_count": null,
   "id": "c324e887-b9d1-4f0b-b395-51dfc5ea2bd9",
   "metadata": {},
   "outputs": [],
   "source": [
    "counties.plot(cmap='winter', legend = True)"
   ]
  },
  {
   "cell_type": "code",
   "execution_count": null,
   "id": "82f57fed-9335-4f48-8742-8f08a6c2124e",
   "metadata": {},
   "outputs": [],
   "source": [
    "counties.boundary.plot()"
   ]
  }
 ],
 "metadata": {
  "kernelspec": {
   "display_name": "Python 3 (ipykernel)",
   "language": "python",
   "name": "python3"
  },
  "language_info": {
   "codemirror_mode": {
    "name": "ipython",
    "version": 3
   },
   "file_extension": ".py",
   "mimetype": "text/x-python",
   "name": "python",
   "nbconvert_exporter": "python",
   "pygments_lexer": "ipython3",
   "version": "3.9.7"
  }
 },
 "nbformat": 4,
 "nbformat_minor": 5
}

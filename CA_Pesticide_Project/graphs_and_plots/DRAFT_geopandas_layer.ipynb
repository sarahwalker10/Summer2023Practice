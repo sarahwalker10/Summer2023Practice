{
 "cells": [
  {
   "cell_type": "code",
   "execution_count": null,
   "id": "733bafeb-8c95-4507-a836-6199e74b72de",
   "metadata": {},
   "outputs": [],
   "source": [
    "https://geopandas.org/en/stable/docs/user_guide/mapping.html\n",
    "\n",
    "#layering but not interactive"
   ]
  },
  {
   "cell_type": "code",
   "execution_count": null,
   "id": "88273df5-bd33-4dee-b312-1b85081d2c65",
   "metadata": {},
   "outputs": [],
   "source": [
    "# interactive!!\n",
    "\n",
    "import folium\n",
    "\n",
    "m = chicago.explore(\n",
    "    column=\"POP2010\",  # make choropleth based on \"POP2010\" column\n",
    "    scheme=\"naturalbreaks\",  # use mapclassify's natural breaks scheme\n",
    "    legend=True,  # show legend\n",
    "    k=10,  # use 10 bins\n",
    "    tooltip=False,  # hide tooltip\n",
    "    popup=[\"POP2010\", \"POP2000\"],  # show popup (on-click)\n",
    "    legend_kwds=dict(colorbar=False),  # do not use colorbar\n",
    "    name=\"chicago\",  # name of the layer in the map\n",
    ")\n",
    "\n",
    "groceries.explore(\n",
    "    m=m,  # pass the map object\n",
    "    color=\"red\",  # use red color on all points\n",
    "    marker_kwds=dict(radius=5, fill=True),  # make marker radius 10px with fill\n",
    "    tooltip=\"Address\",  # show \"name\" column in the tooltip\n",
    "    tooltip_kwds=dict(labels=False),  # do not show column label in the tooltip\n",
    "    name=\"groceries\",  # name of the layer in the map\n",
    ")\n",
    "\n",
    "folium.TileLayer(\"Stamen Toner\", show=False).add_to(\n",
    "    m\n",
    ")  # use folium to add alternative tiles\n",
    "folium.LayerControl().add_to(m)  # use folium to add layer control\n",
    "\n",
    "m  # show map"
   ]
  },
  {
   "cell_type": "code",
   "execution_count": null,
   "id": "c084168e-839d-47d5-a4be-2db85237136c",
   "metadata": {},
   "outputs": [],
   "source": [
    "https://geopandas.org/en/stable/docs/user_guide/interactive_mapping.html"
   ]
  }
 ],
 "metadata": {
  "kernelspec": {
   "display_name": "Python 3 (ipykernel)",
   "language": "python",
   "name": "python3"
  },
  "language_info": {
   "codemirror_mode": {
    "name": "ipython",
    "version": 3
   },
   "file_extension": ".py",
   "mimetype": "text/x-python",
   "name": "python",
   "nbconvert_exporter": "python",
   "pygments_lexer": "ipython3",
   "version": "3.9.7"
  }
 },
 "nbformat": 4,
 "nbformat_minor": 5
}

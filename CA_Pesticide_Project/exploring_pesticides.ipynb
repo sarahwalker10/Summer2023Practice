{
 "cells": [
  {
   "cell_type": "code",
   "execution_count": 1,
   "id": "18b6424b-74c1-44db-8afd-9ca3619064ef",
   "metadata": {
    "tags": []
   },
   "outputs": [],
   "source": [
    "import geopandas as gpd\n",
    "import pandas as pd"
   ]
  },
  {
   "cell_type": "markdown",
   "id": "0247ec3c-5705-45ce-8ab0-c669e4eeee78",
   "metadata": {},
   "source": [
    "# Exploring pesticide use "
   ]
  },
  {
   "cell_type": "code",
   "execution_count": 2,
   "id": "a72c82cb-cf0c-49a4-9c50-bbe59bdef489",
   "metadata": {
    "tags": []
   },
   "outputs": [],
   "source": [
    "ag_pesticides = gpd.read_parquet(\"importing_ag_data/ag_pesticides.parquet\")"
   ]
  },
  {
   "cell_type": "code",
   "execution_count": 4,
   "id": "4f5616f0-ca28-4e18-bdb1-8e2801e53796",
   "metadata": {
    "tags": []
   },
   "outputs": [],
   "source": [
    "#ag_pesticides.head()"
   ]
  },
  {
   "cell_type": "code",
   "execution_count": 5,
   "id": "e0d57d88-d202-4df5-9357-6dcd29d8a3a0",
   "metadata": {
    "tags": []
   },
   "outputs": [],
   "source": [
    "#ag_pesticides.head()\n",
    "#ag_pesticides.info()\n",
    "#pct_chem_used is a float"
   ]
  },
  {
   "cell_type": "code",
   "execution_count": 5,
   "id": "1b5e249a-3823-409d-9f00-53e7e2c2600b",
   "metadata": {
    "tags": []
   },
   "outputs": [],
   "source": []
  },
  {
   "cell_type": "code",
   "execution_count": 6,
   "id": "2c0764e6-6a90-48ca-a191-8efb167a1d70",
   "metadata": {
    "tags": []
   },
   "outputs": [
    {
     "data": {
      "text/html": [
       "<div>\n",
       "<style scoped>\n",
       "    .dataframe tbody tr th:only-of-type {\n",
       "        vertical-align: middle;\n",
       "    }\n",
       "\n",
       "    .dataframe tbody tr th {\n",
       "        vertical-align: top;\n",
       "    }\n",
       "\n",
       "    .dataframe thead th {\n",
       "        text-align: right;\n",
       "    }\n",
       "</style>\n",
       "<table border=\"1\" class=\"dataframe\">\n",
       "  <thead>\n",
       "    <tr style=\"text-align: right;\">\n",
       "      <th></th>\n",
       "      <th></th>\n",
       "      <th></th>\n",
       "      <th>non_null_pct</th>\n",
       "    </tr>\n",
       "    <tr>\n",
       "      <th>county_name</th>\n",
       "      <th>site_name</th>\n",
       "      <th>site_loc_id</th>\n",
       "      <th></th>\n",
       "    </tr>\n",
       "  </thead>\n",
       "  <tbody>\n",
       "    <tr>\n",
       "      <th rowspan=\"5\" valign=\"top\">Alameda</th>\n",
       "      <th>ALFALFA</th>\n",
       "      <th>1-3</th>\n",
       "      <td>0.357667</td>\n",
       "    </tr>\n",
       "    <tr>\n",
       "      <th rowspan=\"4\" valign=\"top\">ALMOND</th>\n",
       "      <th>1-1</th>\n",
       "      <td>0.201700</td>\n",
       "    </tr>\n",
       "    <tr>\n",
       "      <th>1-2</th>\n",
       "      <td>0.292819</td>\n",
       "    </tr>\n",
       "    <tr>\n",
       "      <th>1-3</th>\n",
       "      <td>0.322090</td>\n",
       "    </tr>\n",
       "    <tr>\n",
       "      <th>1-4</th>\n",
       "      <td>0.322090</td>\n",
       "    </tr>\n",
       "    <tr>\n",
       "      <th>...</th>\n",
       "      <th>...</th>\n",
       "      <th>...</th>\n",
       "      <td>...</td>\n",
       "    </tr>\n",
       "    <tr>\n",
       "      <th rowspan=\"5\" valign=\"top\">Yuba</th>\n",
       "      <th rowspan=\"4\" valign=\"top\">WALNUT</th>\n",
       "      <th>T06</th>\n",
       "      <td>0.282875</td>\n",
       "    </tr>\n",
       "    <tr>\n",
       "      <th>TA</th>\n",
       "      <td>0.282875</td>\n",
       "    </tr>\n",
       "    <tr>\n",
       "      <th>TB</th>\n",
       "      <td>0.282875</td>\n",
       "    </tr>\n",
       "    <tr>\n",
       "      <th>TC</th>\n",
       "      <td>0.282875</td>\n",
       "    </tr>\n",
       "    <tr>\n",
       "      <th>WHEAT (FORAGE - FODDER)</th>\n",
       "      <th>W1</th>\n",
       "      <td>0.345267</td>\n",
       "    </tr>\n",
       "  </tbody>\n",
       "</table>\n",
       "<p>133178 rows × 1 columns</p>\n",
       "</div>"
      ],
      "text/plain": [
       "                                                 non_null_pct\n",
       "county_name site_name               site_loc_id              \n",
       "Alameda     ALFALFA                 1-3              0.357667\n",
       "            ALMOND                  1-1              0.201700\n",
       "                                    1-2              0.292819\n",
       "                                    1-3              0.322090\n",
       "                                    1-4              0.322090\n",
       "...                                                       ...\n",
       "Yuba        WALNUT                  T06              0.282875\n",
       "                                    TA               0.282875\n",
       "                                    TB               0.282875\n",
       "                                    TC               0.282875\n",
       "            WHEAT (FORAGE - FODDER) W1               0.345267\n",
       "\n",
       "[133178 rows x 1 columns]"
      ]
     },
     "execution_count": 6,
     "metadata": {},
     "output_type": "execute_result"
    }
   ],
   "source": []
  },
  {
   "cell_type": "code",
   "execution_count": 13,
   "id": "e11f58bf-aaf2-487e-ab2b-2af19bff2af5",
   "metadata": {
    "tags": []
   },
   "outputs": [],
   "source": [
    "def avgs_to_dict(df):\n",
    "    '''\n",
    "    '''\n",
    "    non_null_copy = df.loc[~(ag_pesticides.loc[:, \"lbs_chm_used\"].isna()), [\"county_name\", \"site_name\", \"site_loc_id\", \"lbs_prd_used\", \"lbs_chm_used\"]].copy()\n",
    "    non_null_copy.loc[:, \"non_null_pct\"] =  non_null_copy.loc[:, \"lbs_chm_used\"] / non_null_copy.loc[:, \"lbs_prd_used\"]\n",
    "    non_null_copy.groupby([\"county_name\", \"site_name\", \"site_loc_id\"]).agg({\"non_null_pct\":\"mean\"})\n",
    "    return non_null_copy.to_dict()[\"non_null_copy\"]\n",
    "\n",
    "\n",
    "\n",
    "def fill_null_percents(df, county, site, loc_id, lbs_chm, lbs_prd):\n",
    "    '''\n",
    "    '''\n",
    "    \n",
    "    fill_dict = avgs_to_dict(df)\n",
    "    \n",
    "    if lbs_chm.isna():\n",
    "        # county = df[\"county_name\"]\n",
    "        # site = df[\"site_name\"]\n",
    "        # loc_id = df[\"site_loc_id\"]\n",
    "        \n",
    "        return fill_dict[(county,site,loc_id)]\n",
    "    else:\n",
    "        return df[\"lbs_chm_used\"] / df[\"lbs_prd_used\"]"
   ]
  },
  {
   "cell_type": "code",
   "execution_count": 8,
   "id": "f52dc756-6dab-4399-ad32-a6debd7df686",
   "metadata": {
    "tags": []
   },
   "outputs": [],
   "source": []
  },
  {
   "cell_type": "code",
   "execution_count": null,
   "id": "77a56799-5771-401c-a79a-4aed7b40007a",
   "metadata": {},
   "outputs": [],
   "source": [
    "# this is an example of applying functions\n",
    "# def fun(x,y):\n",
    "#     return x+y\n",
    "\n",
    "# # Adding a new column into the DataFrame\n",
    "# df['pct_chem_used'] = df.apply(lambda x: fun(x['A'], x['B']), axis=1)\n",
    "\n",
    "\n",
    "# def sum(x, y, z, m):\n",
    "#     return (x + y + z) * m\n",
    "\n",
    "\n",
    "# df = pd.DataFrame({'A': [1, 2], 'B': [10, 20]})\n",
    "\n",
    "# df1 = df.apply(sum, args=(1, 2), m=10)\n",
    "# print(df1)"
   ]
  },
  {
   "cell_type": "code",
   "execution_count": 15,
   "id": "a60eb1bc-26d1-4f0a-9544-bd8da8cafbe8",
   "metadata": {
    "tags": []
   },
   "outputs": [
    {
     "ename": "TypeError",
     "evalue": "apply() takes from 2 to 6 positional arguments but 7 were given",
     "output_type": "error",
     "traceback": [
      "\u001b[0;31m---------------------------------------------------------------------------\u001b[0m",
      "\u001b[0;31mTypeError\u001b[0m                                 Traceback (most recent call last)",
      "Cell \u001b[0;32mIn[15], line 1\u001b[0m\n\u001b[0;32m----> 1\u001b[0m ag_pesticides[\u001b[38;5;124m\"\u001b[39m\u001b[38;5;124mpct_chem_used\u001b[39m\u001b[38;5;124m\"\u001b[39m] \u001b[38;5;241m=\u001b[39m \u001b[43mag_pesticides\u001b[49m\u001b[38;5;241;43m.\u001b[39;49m\u001b[43mapply\u001b[49m\u001b[43m(\u001b[49m\u001b[43mfill_null_percents\u001b[49m\u001b[43m,\u001b[49m\u001b[43m \u001b[49m\u001b[43mag_pesticides\u001b[49m\u001b[43m[\u001b[49m\u001b[38;5;124;43m\"\u001b[39;49m\u001b[38;5;124;43mcounty_name\u001b[39;49m\u001b[38;5;124;43m\"\u001b[39;49m\u001b[43m]\u001b[49m\u001b[43m,\u001b[49m\n\u001b[1;32m      2\u001b[0m \u001b[43m                                                                              \u001b[49m\u001b[43mag_pesticides\u001b[49m\u001b[43m[\u001b[49m\u001b[38;5;124;43m\"\u001b[39;49m\u001b[38;5;124;43msite_name\u001b[39;49m\u001b[38;5;124;43m\"\u001b[39;49m\u001b[43m]\u001b[49m\u001b[43m,\u001b[49m\n\u001b[1;32m      3\u001b[0m \u001b[43m                                                                              \u001b[49m\u001b[43mag_pesticides\u001b[49m\u001b[43m[\u001b[49m\u001b[38;5;124;43m\"\u001b[39;49m\u001b[38;5;124;43msite_loc_id\u001b[39;49m\u001b[38;5;124;43m\"\u001b[39;49m\u001b[43m]\u001b[49m\u001b[43m,\u001b[49m\n\u001b[1;32m      4\u001b[0m \u001b[43m                                                                              \u001b[49m\u001b[43mag_pesticides\u001b[49m\u001b[43m[\u001b[49m\u001b[38;5;124;43m\"\u001b[39;49m\u001b[38;5;124;43mlbs_chm_used\u001b[39;49m\u001b[38;5;124;43m\"\u001b[39;49m\u001b[43m]\u001b[49m\u001b[43m,\u001b[49m\n\u001b[1;32m      5\u001b[0m \u001b[43m                                                                              \u001b[49m\u001b[43mag_pesticides\u001b[49m\u001b[43m[\u001b[49m\u001b[38;5;124;43m\"\u001b[39;49m\u001b[38;5;124;43mlbs_prd_used\u001b[39;49m\u001b[38;5;124;43m\"\u001b[39;49m\u001b[43m]\u001b[49m\u001b[43m)\u001b[49m\n",
      "\u001b[0;31mTypeError\u001b[0m: apply() takes from 2 to 6 positional arguments but 7 were given"
     ]
    }
   ],
   "source": [
    "ag_pesticides[\"pct_chem_used\"] = ag_pesticides.apply(fill_null_percents, ag_pesticides[\"county_name\"],\n",
    "                                                                              ag_pesticides[\"site_name\"],\n",
    "                                                                              ag_pesticides[\"site_loc_id\"],\n",
    "                                                                              ag_pesticides[\"lbs_chm_used\"],\n",
    "                                                                              ag_pesticides[\"lbs_prd_used\"])"
   ]
  },
  {
   "cell_type": "code",
   "execution_count": null,
   "id": "c754163d-cfb6-4ceb-9bdd-35a6ad16aafb",
   "metadata": {},
   "outputs": [],
   "source": []
  }
 ],
 "metadata": {
  "kernelspec": {
   "display_name": "Python 3 (ipykernel)",
   "language": "python",
   "name": "python3"
  },
  "language_info": {
   "codemirror_mode": {
    "name": "ipython",
    "version": 3
   },
   "file_extension": ".py",
   "mimetype": "text/x-python",
   "name": "python",
   "nbconvert_exporter": "python",
   "pygments_lexer": "ipython3",
   "version": "3.9.7"
  }
 },
 "nbformat": 4,
 "nbformat_minor": 5
}

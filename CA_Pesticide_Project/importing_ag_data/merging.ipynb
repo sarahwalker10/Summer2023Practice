{
 "cells": [
  {
   "cell_type": "markdown",
   "id": "ef1f100d-9f73-4a80-b755-3e1a664863eb",
   "metadata": {},
   "source": [
    "We are going to merge the geometry for each use_no onto the rest of the information provided about the ag pesticide use.\n",
    "This will be more efficient to do now that we have cleaned the origninal datframe and kept only the unique columns."
   ]
  },
  {
   "cell_type": "code",
   "execution_count": 1,
   "id": "fd785447-b61a-49d3-9da5-1cd98602056a",
   "metadata": {
    "tags": []
   },
   "outputs": [],
   "source": [
    "import geopandas as gpd\n",
    "import pandas as pd"
   ]
  },
  {
   "cell_type": "code",
   "execution_count": 2,
   "id": "099bf096-bdc9-4d30-86cb-ebd4427986b0",
   "metadata": {
    "tags": []
   },
   "outputs": [],
   "source": [
    "#call cleaned file for ag pesticide info (without geometry)\n",
    "ag_info = pd.read_parquet(\"../importing_ag_data/ag_info.parquet\", engine = 'fastparquet')\n",
    "\n",
    "#call cleaned file for ag pesticide info (with geometry)\n",
    "ag_geo = gpd.read_parquet(\"../importing_ag_data/use_num_geometry.parquet\")"
   ]
  },
  {
   "cell_type": "code",
   "execution_count": 3,
   "id": "7bc45fc7-157f-4615-8865-9c63d1d43148",
   "metadata": {
    "tags": []
   },
   "outputs": [],
   "source": [
    "#merge the two together keeping all the unique use_no values the same, and incorporating geometry values for each row \n",
    "\n",
    "ag_pesticides = pd.merge(ag_geo, ag_info, how = \"right\", on = \"use_no\")\n"
   ]
  },
  {
   "cell_type": "code",
   "execution_count": 5,
   "id": "23c3f7f6-7519-4750-b198-01d0682d1529",
   "metadata": {
    "tags": []
   },
   "outputs": [
    {
     "data": {
      "text/html": [
       "<div>\n",
       "<style scoped>\n",
       "    .dataframe tbody tr th:only-of-type {\n",
       "        vertical-align: middle;\n",
       "    }\n",
       "\n",
       "    .dataframe tbody tr th {\n",
       "        vertical-align: top;\n",
       "    }\n",
       "\n",
       "    .dataframe thead th {\n",
       "        text-align: right;\n",
       "    }\n",
       "</style>\n",
       "<table border=\"1\" class=\"dataframe\">\n",
       "  <thead>\n",
       "    <tr style=\"text-align: right;\">\n",
       "      <th></th>\n",
       "      <th>use_no</th>\n",
       "      <th>geometry</th>\n",
       "      <th>lbs_chm_used</th>\n",
       "      <th>lbs_prd_used</th>\n",
       "      <th>acre_planted</th>\n",
       "      <th>acre_treated</th>\n",
       "      <th>applic_dt</th>\n",
       "      <th>applic_time</th>\n",
       "      <th>site_loc_id</th>\n",
       "      <th>aer_gnd_ind</th>\n",
       "      <th>chemname</th>\n",
       "      <th>REGIONNAME</th>\n",
       "      <th>site_name</th>\n",
       "      <th>county_name</th>\n",
       "      <th>month</th>\n",
       "      <th>day</th>\n",
       "    </tr>\n",
       "  </thead>\n",
       "  <tbody>\n",
       "    <tr>\n",
       "      <th>0</th>\n",
       "      <td>956467</td>\n",
       "      <td>POLYGON ((-122.79807 38.66381, -122.79169 38.6...</td>\n",
       "      <td>6.216000</td>\n",
       "      <td>7.7700</td>\n",
       "      <td>169.53</td>\n",
       "      <td>2.59</td>\n",
       "      <td>04/08/2020</td>\n",
       "      <td>1630.0</td>\n",
       "      <td>1</td>\n",
       "      <td>G</td>\n",
       "      <td>SULFUR</td>\n",
       "      <td>NORTH COAST</td>\n",
       "      <td>GRAPE, WINE</td>\n",
       "      <td>Sonoma</td>\n",
       "      <td>04</td>\n",
       "      <td>08</td>\n",
       "    </tr>\n",
       "    <tr>\n",
       "      <th>1</th>\n",
       "      <td>956473</td>\n",
       "      <td>POLYGON ((-122.79807 38.66381, -122.79169 38.6...</td>\n",
       "      <td>10.680000</td>\n",
       "      <td>13.3500</td>\n",
       "      <td>169.53</td>\n",
       "      <td>4.45</td>\n",
       "      <td>04/08/2020</td>\n",
       "      <td>1630.0</td>\n",
       "      <td>1</td>\n",
       "      <td>G</td>\n",
       "      <td>SULFUR</td>\n",
       "      <td>NORTH COAST</td>\n",
       "      <td>GRAPE, WINE</td>\n",
       "      <td>Sonoma</td>\n",
       "      <td>04</td>\n",
       "      <td>08</td>\n",
       "    </tr>\n",
       "    <tr>\n",
       "      <th>2</th>\n",
       "      <td>950977</td>\n",
       "      <td>POLYGON ((-122.44568 38.15707, -122.44565 38.1...</td>\n",
       "      <td>NaN</td>\n",
       "      <td>0.0023</td>\n",
       "      <td>142.00</td>\n",
       "      <td>0.43</td>\n",
       "      <td>04/10/2020</td>\n",
       "      <td>811.0</td>\n",
       "      <td>131</td>\n",
       "      <td>G</td>\n",
       "      <td>None</td>\n",
       "      <td>SAN FRANCISCO BAY</td>\n",
       "      <td>GRAPE, WINE</td>\n",
       "      <td>Sonoma</td>\n",
       "      <td>04</td>\n",
       "      <td>10</td>\n",
       "    </tr>\n",
       "    <tr>\n",
       "      <th>3</th>\n",
       "      <td>950981</td>\n",
       "      <td>POLYGON ((-122.44568 38.15707, -122.44565 38.1...</td>\n",
       "      <td>0.015974</td>\n",
       "      <td>0.0652</td>\n",
       "      <td>142.00</td>\n",
       "      <td>0.49</td>\n",
       "      <td>04/10/2020</td>\n",
       "      <td>821.0</td>\n",
       "      <td>131</td>\n",
       "      <td>G</td>\n",
       "      <td>GLUFOSINATE-AMMONIUM</td>\n",
       "      <td>SAN FRANCISCO BAY</td>\n",
       "      <td>GRAPE, WINE</td>\n",
       "      <td>Sonoma</td>\n",
       "      <td>04</td>\n",
       "      <td>10</td>\n",
       "    </tr>\n",
       "    <tr>\n",
       "      <th>4</th>\n",
       "      <td>950993</td>\n",
       "      <td>POLYGON ((-122.85427 38.51788, -122.84768 38.5...</td>\n",
       "      <td>3.324537</td>\n",
       "      <td>3.9625</td>\n",
       "      <td>27.50</td>\n",
       "      <td>3.17</td>\n",
       "      <td>04/15/2020</td>\n",
       "      <td>650.0</td>\n",
       "      <td>115</td>\n",
       "      <td>G</td>\n",
       "      <td>COPPER OXIDE (OUS)</td>\n",
       "      <td>NORTH COAST</td>\n",
       "      <td>GRAPE, WINE</td>\n",
       "      <td>Sonoma</td>\n",
       "      <td>04</td>\n",
       "      <td>15</td>\n",
       "    </tr>\n",
       "  </tbody>\n",
       "</table>\n",
       "</div>"
      ],
      "text/plain": [
       "   use_no                                           geometry  lbs_chm_used  \\\n",
       "0  956467  POLYGON ((-122.79807 38.66381, -122.79169 38.6...      6.216000   \n",
       "1  956473  POLYGON ((-122.79807 38.66381, -122.79169 38.6...     10.680000   \n",
       "2  950977  POLYGON ((-122.44568 38.15707, -122.44565 38.1...           NaN   \n",
       "3  950981  POLYGON ((-122.44568 38.15707, -122.44565 38.1...      0.015974   \n",
       "4  950993  POLYGON ((-122.85427 38.51788, -122.84768 38.5...      3.324537   \n",
       "\n",
       "   lbs_prd_used  acre_planted  acre_treated   applic_dt  applic_time  \\\n",
       "0        7.7700        169.53          2.59  04/08/2020       1630.0   \n",
       "1       13.3500        169.53          4.45  04/08/2020       1630.0   \n",
       "2        0.0023        142.00          0.43  04/10/2020        811.0   \n",
       "3        0.0652        142.00          0.49  04/10/2020        821.0   \n",
       "4        3.9625         27.50          3.17  04/15/2020        650.0   \n",
       "\n",
       "  site_loc_id aer_gnd_ind              chemname         REGIONNAME  \\\n",
       "0           1           G                SULFUR        NORTH COAST   \n",
       "1           1           G                SULFUR        NORTH COAST   \n",
       "2         131           G                  None  SAN FRANCISCO BAY   \n",
       "3         131           G  GLUFOSINATE-AMMONIUM  SAN FRANCISCO BAY   \n",
       "4         115           G    COPPER OXIDE (OUS)        NORTH COAST   \n",
       "\n",
       "     site_name county_name month day  \n",
       "0  GRAPE, WINE      Sonoma    04  08  \n",
       "1  GRAPE, WINE      Sonoma    04  08  \n",
       "2  GRAPE, WINE      Sonoma    04  10  \n",
       "3  GRAPE, WINE      Sonoma    04  10  \n",
       "4  GRAPE, WINE      Sonoma    04  15  "
      ]
     },
     "execution_count": 5,
     "metadata": {},
     "output_type": "execute_result"
    }
   ],
   "source": [
    "ag_pesticides.head()"
   ]
  },
  {
   "cell_type": "code",
   "execution_count": null,
   "id": "575142f8-a417-446b-bc8e-cfc04072e35a",
   "metadata": {},
   "outputs": [],
   "source": [
    "ag_pesticides.info()\n",
    "#sanity check assures us that the merged dataframe is still geodf and the geometry column is geometry"
   ]
  },
  {
   "cell_type": "code",
   "execution_count": 4,
   "id": "40bb291f-733b-47ae-9a45-841081d20a2b",
   "metadata": {
    "tags": []
   },
   "outputs": [],
   "source": [
    "#save the merged dataframe to new parquet file; importing this file will replace pur2020_ag.parquet\n",
    "\n",
    "ag_pesticides.to_parquet(path=\"../importing_ag_data/ag_pesticides.parquet\")"
   ]
  },
  {
   "cell_type": "code",
   "execution_count": null,
   "id": "9453ed16-fd29-4dd5-9ad3-8f5b5ef97b39",
   "metadata": {},
   "outputs": [],
   "source": []
  }
 ],
 "metadata": {
  "kernelspec": {
   "display_name": "Python 3 (ipykernel)",
   "language": "python",
   "name": "python3"
  },
  "language_info": {
   "codemirror_mode": {
    "name": "ipython",
    "version": 3
   },
   "file_extension": ".py",
   "mimetype": "text/x-python",
   "name": "python",
   "nbconvert_exporter": "python",
   "pygments_lexer": "ipython3",
   "version": "3.9.7"
  }
 },
 "nbformat": 4,
 "nbformat_minor": 5
}

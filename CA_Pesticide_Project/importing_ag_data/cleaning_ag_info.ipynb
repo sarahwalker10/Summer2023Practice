{
 "cells": [
  {
   "cell_type": "code",
   "execution_count": 1,
   "id": "5cf894dc-5965-4fcf-8b59-dbe2ead897f5",
   "metadata": {
    "tags": []
   },
   "outputs": [],
   "source": [
    "import geopandas as gpd\n",
    "import pandas as pd"
   ]
  },
  {
   "cell_type": "code",
   "execution_count": 2,
   "id": "e7266921-fbe2-4084-ad5f-a00c3fbfc83d",
   "metadata": {
    "tags": []
   },
   "outputs": [],
   "source": [
    "#import the 2020 ag pesticide information (without geometry) and specify only necessary columns\n",
    "\n",
    "ag_pur = pd.read_parquet(\"/srv/data/my_shared_data_folder/cpr/pur2020_ag.parquet\", engine = 'fastparquet', \n",
    "                         columns = ['use_no', \"lbs_chm_used\", \"lbs_prd_used\",'acre_planted', \n",
    "                                    'acre_treated', 'applic_dt', 'applic_time', \"site_loc_id\",\n",
    "                                    \"aer_gnd_ind\",\"chemname\",\"REGIONNAME\",\"site_name\",\"county_name\"])\n",
    "\n",
    "#drop duplicated rows in the data frame (this reduces the total number of rows from ~7.5mil to ~3.7mil\n",
    "ag_pur = ag_pur.drop_duplicates()"
   ]
  },
  {
   "cell_type": "code",
   "execution_count": 3,
   "id": "6e173e1f-d86e-46f7-a513-5790978fdafd",
   "metadata": {
    "tags": []
   },
   "outputs": [],
   "source": [
    "def month(column_value):\n",
    "    '''\n",
    "    Takes in a full date string, separates and returns the month part\n",
    "    \n",
    "    input: value in each row of the column (string)\n",
    "    returns: month part of the date (string or None)\n",
    "    '''\n",
    "    \n",
    "    date = column_value\n",
    "    if date == None:\n",
    "        return None\n",
    "    \n",
    "    month_day_year = date.split(\"/\")\n",
    "    return month_day_year[0]\n",
    "\n",
    "def day(column_value):\n",
    "    '''\n",
    "    Takes in a full date string, separates and returns the day part\n",
    "    \n",
    "    input: full date value in each row of the column (string)\n",
    "    returns: day part of the date (string or None)\n",
    "    '''\n",
    "    date = column_value\n",
    "    if date == None:\n",
    "        return None\n",
    "    \n",
    "    month_day_year = date.split(\"/\")\n",
    "    return month_day_year[1]"
   ]
  },
  {
   "cell_type": "code",
   "execution_count": 4,
   "id": "dc5aec63-4850-4abd-950b-b7d299a47f1f",
   "metadata": {
    "tags": []
   },
   "outputs": [],
   "source": [
    "#create new rows for \"month\" and \"day\" of application date (extracted from the \"applic_dt\" column)\n",
    "\n",
    "ag_pur[\"month\"] = ag_pur[\"applic_dt\"].apply(month)\n",
    "ag_pur[\"day\"] = ag_pur[\"applic_dt\"].apply(day)"
   ]
  },
  {
   "cell_type": "code",
   "execution_count": 5,
   "id": "e95a1146-2410-4286-aa6f-0c3db7cbb78a",
   "metadata": {
    "tags": []
   },
   "outputs": [],
   "source": [
    "#save the modified dataframe to new parquet file \n",
    "\n",
    "ag_pur.to_parquet(path=\"../importing_ag_data/ag_info.parquet\")"
   ]
  },
  {
   "cell_type": "code",
   "execution_count": null,
   "id": "eae0bbbc-e8df-4adf-b8f4-6eb61de87a64",
   "metadata": {},
   "outputs": [],
   "source": []
  }
 ],
 "metadata": {
  "kernelspec": {
   "display_name": "Python 3 (ipykernel)",
   "language": "python",
   "name": "python3"
  },
  "language_info": {
   "codemirror_mode": {
    "name": "ipython",
    "version": 3
   },
   "file_extension": ".py",
   "mimetype": "text/x-python",
   "name": "python",
   "nbconvert_exporter": "python",
   "pygments_lexer": "ipython3",
   "version": "3.9.7"
  }
 },
 "nbformat": 4,
 "nbformat_minor": 5
}

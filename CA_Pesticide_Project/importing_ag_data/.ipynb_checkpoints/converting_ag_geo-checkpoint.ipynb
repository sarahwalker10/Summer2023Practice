{
 "cells": [
  {
   "cell_type": "markdown",
   "id": "b50c564e-e870-44f6-971c-82930d1a4678",
   "metadata": {},
   "source": [
    "We are having trouble importing the pur2020_ag.parquet dataframe with the geometry column \n",
    "because it takes up too much memory by itself. This file is meant to modify the dataframe to make it smaller \n",
    "and easier to import.\n"
   ]
  },
  {
   "cell_type": "code",
   "execution_count": 1,
   "id": "657b4ccc-a63e-40c2-9f78-4f1e01a327ae",
   "metadata": {
    "tags": []
   },
   "outputs": [],
   "source": [
    "import geopandas as gpd\n",
    "import pandas as pd"
   ]
  },
  {
   "cell_type": "code",
   "execution_count": 2,
   "id": "ab9a834d-2788-4477-b1b3-ac2d13b4ed9f",
   "metadata": {
    "tags": []
   },
   "outputs": [],
   "source": [
    "#import the pur2020_ag.parquet with geometry\n",
    "\n",
    "geo_ag_pur = gpd.read_parquet(\"/srv/data/my_shared_data_folder/cpr/pur2020_ag.parquet\", \n",
    "                              columns = ['use_no', \"geometry\"])\n"
   ]
  },
  {
   "cell_type": "code",
   "execution_count": 3,
   "id": "dacf437b-851e-47dc-b764-d14c7e0719bd",
   "metadata": {
    "tags": []
   },
   "outputs": [],
   "source": [
    "#dropping duplicated rows to make the dataframe smaller \n",
    "#only saves the unique use numbers ('use_no') and their unique geometry points\n",
    "\n",
    "geo_ag_pur = geo_ag_pur.drop_duplicates()"
   ]
  },
  {
   "cell_type": "code",
   "execution_count": 4,
   "id": "5aec34d9-9d8f-420c-b769-7d9dced32735",
   "metadata": {},
   "outputs": [],
   "source": [
    "#save the modified dataframe to new parquet file \n",
    "\n",
    "geo_ag_pur.to_parquet(path=\"../importing_ag_data/use_num_geometry.parquet\")"
   ]
  },
  {
   "cell_type": "code",
   "execution_count": null,
   "id": "a957434c-bd26-4ffe-a7e1-74dfc723e326",
   "metadata": {},
   "outputs": [],
   "source": []
  }
 ],
 "metadata": {
  "kernelspec": {
   "display_name": "Python 3 (ipykernel)",
   "language": "python",
   "name": "python3"
  },
  "language_info": {
   "codemirror_mode": {
    "name": "ipython",
    "version": 3
   },
   "file_extension": ".py",
   "mimetype": "text/x-python",
   "name": "python",
   "nbconvert_exporter": "python",
   "pygments_lexer": "ipython3",
   "version": "3.9.7"
  }
 },
 "nbformat": 4,
 "nbformat_minor": 5
}

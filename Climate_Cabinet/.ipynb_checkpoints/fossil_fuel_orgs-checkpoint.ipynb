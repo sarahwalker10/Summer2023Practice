{
 "cells": [
  {
   "cell_type": "code",
   "execution_count": 1,
   "id": "896a303c-45db-428f-87a3-4900ac5e94b6",
   "metadata": {
    "tags": []
   },
   "outputs": [],
   "source": [
    "import pandas as pd"
   ]
  },
  {
   "cell_type": "markdown",
   "id": "741539e1-2d91-4e18-b0cb-178c13f975f9",
   "metadata": {},
   "source": [
    "### Combining Fossil Fuel Company Names Across Datasets "
   ]
  },
  {
   "cell_type": "code",
   "execution_count": 13,
   "id": "e4a0be30-ca0b-42cd-9668-03ded7fee3ab",
   "metadata": {
    "tags": []
   },
   "outputs": [],
   "source": [
    "all_data = []"
   ]
  },
  {
   "cell_type": "markdown",
   "id": "39660841-e5fd-4486-8fea-263b1fbc3122",
   "metadata": {},
   "source": [
    "From Open Secrets, dataset of Oil & Gas PACs"
   ]
  },
  {
   "cell_type": "code",
   "execution_count": 14,
   "id": "0cbcf6f2-8869-461b-8686-5f27dac863eb",
   "metadata": {
    "tags": []
   },
   "outputs": [],
   "source": [
    "#Source for oil and gas PACs/superPACs\n",
    "#https://www.opensecrets.org/political-action-committees-pacs/industry-detail/E01/2012\n",
    "\n",
    "pacs22 = pd.read_csv(\"raw_data/Oil & Gas PACs to candidates, 2021-2022.csv\", usecols = [\"PAC Name\"], low_memory = False)\n",
    "pacs22.columns = [\"Name\"]\n",
    "\n",
    "pacs20 = pd.read_csv(\"raw_data/Oil & Gas PACs to candidates, 2019-2020.csv\", usecols = [\"PAC Name\"], low_memory = False)\n",
    "pacs20.columns = [\"Name\"]\n",
    "\n",
    "pacs18 = pd.read_csv(\"raw_data/Oil & Gas PACs to candidates, 2017-2018.csv\", usecols = [\"PAC Name\"], low_memory = False)\n",
    "pacs18.columns = [\"Name\"]\n",
    "\n",
    "pacs16 = pd.read_csv(\"raw_data/Oil & Gas PACs to candidates, 2015-2016.csv\", usecols = [\"PAC Name\"], low_memory = False)\n",
    "pacs16.columns = [\"Name\"]\n",
    "\n",
    "pacs14 = pd.read_csv(\"raw_data/Oil & Gas PACs to candidates, 2013-2014.csv\", usecols = [\"PAC Name\"], low_memory = False)\n",
    "pacs14.columns = [\"Name\"]\n",
    "\n",
    "pacs12 = pd.read_csv(\"raw_data/Oil & Gas PACs to candidates, 2011-2012.csv\", usecols = [\"PAC Name\"], low_memory = False)\n",
    "pacs12.columns = [\"Name\"]"
   ]
  },
  {
   "cell_type": "code",
   "execution_count": 15,
   "id": "25a66f78-d7de-4c4e-8927-c79324bdee43",
   "metadata": {
    "tags": []
   },
   "outputs": [],
   "source": [
    "all_data = [pacs22, pacs20, pacs18, pacs16, pacs14, pacs12]"
   ]
  },
  {
   "cell_type": "markdown",
   "id": "1da244bf-3112-45dd-8e00-66e215edeb08",
   "metadata": {},
   "source": [
    "Manually adding PAC info from literature review"
   ]
  },
  {
   "cell_type": "code",
   "execution_count": 16,
   "id": "53db77e5-87b2-4fe7-9f9b-0fe69c97250b",
   "metadata": {
    "tags": []
   },
   "outputs": [],
   "source": [
    "# sources with other PAC names:\n",
    "# https://www.prwatch.org/news/2020/02/13545/wealthy-donors-and-fossil-fuel-interests-pump-millions-super-pacs-2020-elections\n",
    "# https://energyandpolicy.org/affordable-energy-fund-pac-mailers-ads/\n",
    "add_this_list = [[\"Koch Industries\"], [\"Jan Duncan (Enterprise Products)\"], [\"Chevron\"],\n",
    "                 [\"ConocoPhillips ANS Marketing Co.\"], [\"Energy Transfer\"], [\"The Empowerment Alliance\"],\n",
    "                 [\"The Affordable Energy Fund PAC (AEF PAC)\"], [\"AEF PAC\"], [\"American Exceptionalism Institute Inc.\"],\n",
    "                 [\"Affordable Energy LLC.\"], [\"Prosperity Alliance Inc.\"]]\n",
    "add_this_df = pd.DataFrame(add_this_list, columns = [\"Name\"])"
   ]
  },
  {
   "cell_type": "code",
   "execution_count": 17,
   "id": "bf81d143-2105-417f-8a3d-519a4f15c5c4",
   "metadata": {
    "tags": []
   },
   "outputs": [],
   "source": [
    "all_data.append(add_this_df)"
   ]
  },
  {
   "cell_type": "markdown",
   "id": "93f99dc9-b180-4100-aedc-c1cee49713fa",
   "metadata": {},
   "source": [
    "From Open Secrets for Texas, Minnesota, Michigan, Pennsylvania, North Carolina, Arizona, and Virginia: Fossil Fuel companies and affiliates by classification code"
   ]
  },
  {
   "cell_type": "code",
   "execution_count": 18,
   "id": "e20a8099-365b-40dd-92dc-09b6b2a39008",
   "metadata": {
    "tags": []
   },
   "outputs": [],
   "source": [
    "# Realcode classifications from the data dictionary\n",
    "# include as fossil fuels\n",
    "\n",
    "# E0000\tEnergy, Natural Resources and Environment\n",
    "# E1000\tEnergy production & distribution \n",
    "# E1100\tOil & Gas\n",
    "# E1110\tMajor (multinational) oil & gas producers\n",
    "# E1120\tIndependent oil & gas producers\n",
    "# E1140\tNatural Gas transmission & distribution\n",
    "# E1150\tOilfield service, equipment & exploration\n",
    "# E1160\tPetroleum refining & marketing\n",
    "# E1170\tGasoline service stations\n",
    "# E1180\tFuel oil dealers\n",
    "# E1190\tLPG/Liquid Propane dealers & producers\n",
    "# E1200\tMining\n",
    "# E1210\tCoal mining\n",
    "# E1220\tMetal mining & processing\n",
    "# E1230\tNon-metallic mining\n",
    "# E1240\tMining services & equipment\n",
    "# E1620\tGas & Electric Utilities\n",
    "# E1630\tIndependent power generation & cogeneration\n",
    "\n",
    "\n",
    "#do not include as fossil fuels \n",
    "\n",
    "# E1300\tNuclear energy\n",
    "# E1320\tNuclear plant construction, equipment & svcs\n",
    "# E1500\tAlternate energy production & services\n",
    "# E1600\tElectric Power utilities\n",
    "# E1610\tRural electric cooperatives\n",
    "# E1700\tPower plant construction & equipment\n",
    "# E2000\tEnvironmental services, equipment & consulting\n",
    "# E3000\tWaste management\n",
    "# E4000\tFisheries & wildlife\n",
    "# E4100\tFishing\tE11\tFisheries & Wildlife\n",
    "# E4200\tHunting & wildlife"
   ]
  },
  {
   "cell_type": "code",
   "execution_count": 4,
   "id": "70b8a58a-bff3-41e5-a61e-63c96d07e284",
   "metadata": {
    "tags": []
   },
   "outputs": [],
   "source": [
    "list_fossil_fuels = [\"E0000\", \"E1000\", \"E1100\", \"E1110\", \"E1120\", \" E1140\",\n",
    "                \"E1150\", \"E1160\", \"E1170\", \"E1180\", \"E1190\", \"E1200\", \"E1210\",\n",
    "                \"E1220\", \"E1230\", \"E1240\", \"E1620\", \"E1630\"]"
   ]
  },
  {
   "cell_type": "code",
   "execution_count": 20,
   "id": "6f50fa31-88e9-4836-9f1e-6e1c96086605",
   "metadata": {
    "tags": []
   },
   "outputs": [],
   "source": [
    "#https://www.opensecrets.org/bulk-data/downloads"
   ]
  },
  {
   "cell_type": "code",
   "execution_count": 21,
   "id": "a433e271-190b-4718-9875-d799f656e4a5",
   "metadata": {
    "tags": []
   },
   "outputs": [],
   "source": [
    "tx = pd.read_csv(\"indivs_Texas20.csv\", header=0, low_memory = False) \n",
    "#subset the donations made by fossil fuel companies and affiliates\n",
    "tx_fossil_fuels = tx.loc[tx.loc[:, \"Realcode\"].isin(list_fossil_fuels), [\"Employer\"]]\n",
    "tx_fossil_fuels = tx_fossil_fuels.loc[~(tx_fossil_fuels[\"Employer\"] == \"SELF-EMPLOYED\")]\n",
    "tx_fossil_fuels = tx_fossil_fuels.loc[~(tx_fossil_fuels[\"Employer\"] == \"NOT EMPLOYED\")]\n",
    "tx_fossil_fuels = tx_fossil_fuels.loc[~(tx_fossil_fuels[\"Employer\"] == \"RETIRED\")]\n",
    "tx_fossil_fuels = tx_fossil_fuels.loc[~(tx_fossil_fuels[\"Employer\"] == \"SELF\")]\n",
    "tx_fossil_fuels = tx_fossil_fuels.loc[~(tx_fossil_fuels[\"Employer\"] == \"NONE\")]\n",
    "tx_fossil_fuels.columns = [\"Name\"] \n",
    "tx_fossil_fuels = tx_fossil_fuels.drop_duplicates()"
   ]
  },
  {
   "cell_type": "code",
   "execution_count": 22,
   "id": "e4e43a2c-3f60-4076-bdb3-1a8fbaa46669",
   "metadata": {
    "tags": []
   },
   "outputs": [],
   "source": [
    "all_data.append(tx_fossil_fuels)"
   ]
  },
  {
   "cell_type": "code",
   "execution_count": 26,
   "id": "c047012f-1d2b-4f97-94b0-dfdf97d3d247",
   "metadata": {
    "tags": []
   },
   "outputs": [],
   "source": [
    "mn = pd.read_csv(\"indivs_Minnesota20.csv\", header=0, encoding_errors = 'ignore', on_bad_lines=\"skip\", low_memory = False) \n",
    "#subset the donations made by fossil fuel companies and affiliates\n",
    "mn_fossil_fuels = mn.loc[mn.loc[:, \"Realcode\"].isin(list_fossil_fuels), [\"Employer\"]]\n",
    "mn_fossil_fuels = mn_fossil_fuels.loc[~(mn_fossil_fuels[\"Employer\"] == \"SELF-EMPLOYED\")]\n",
    "mn_fossil_fuels = mn_fossil_fuels.loc[~(mn_fossil_fuels[\"Employer\"] == \"NOT EMPLOYED\")]\n",
    "mn_fossil_fuels = mn_fossil_fuels.loc[~(mn_fossil_fuels[\"Employer\"] == \"RETIRED\")]\n",
    "mn_fossil_fuels = mn_fossil_fuels.loc[~(mn_fossil_fuels[\"Employer\"] == \"SELF\")]\n",
    "mn_fossil_fuels = mn_fossil_fuels.loc[~(mn_fossil_fuels[\"Employer\"] == \"NONE\")]\n",
    "mn_fossil_fuels.columns = [\"Name\"]\n",
    "mn_fossil_fuels = mn_fossil_fuels.drop_duplicates()"
   ]
  },
  {
   "cell_type": "code",
   "execution_count": 28,
   "id": "a03628b7-0261-4ada-960c-c4eb8f75c1aa",
   "metadata": {
    "tags": []
   },
   "outputs": [],
   "source": [
    "all_data.append(mn_fossil_fuels)"
   ]
  },
  {
   "cell_type": "code",
   "execution_count": 29,
   "id": "9699e138-14f1-4ee6-9fa9-2a994a4b2852",
   "metadata": {
    "tags": []
   },
   "outputs": [],
   "source": [
    "mi = pd.read_csv(\"indivs_Michigan20.csv\", header=0, low_memory = False) \n",
    "#subset the donations made by fossil fuel companies and affiliates\n",
    "mi_fossil_fuels = mi.loc[mi.loc[:, \"Realcode\"].isin(list_fossil_fuels), [\"Employer\"]]\n",
    "mi_fossil_fuels = mi_fossil_fuels.loc[~(mi_fossil_fuels[\"Employer\"] == \"SELF-EMPLOYED\")]\n",
    "mi_fossil_fuels = mi_fossil_fuels.loc[~(mi_fossil_fuels[\"Employer\"] == \"NOT EMPLOYED\")]\n",
    "mi_fossil_fuels = mi_fossil_fuels.loc[~(mi_fossil_fuels[\"Employer\"] == \"RETIRED\")]\n",
    "mi_fossil_fuels = mi_fossil_fuels.loc[~(mi_fossil_fuels[\"Employer\"] == \"SELF\")]\n",
    "mi_fossil_fuels = mi_fossil_fuels.loc[~(mi_fossil_fuels[\"Employer\"] == \"NONE\")]\n",
    "mi_fossil_fuels.columns = [\"Name\"]\n",
    "mi_fossil_fuels = mi_fossil_fuels.drop_duplicates()"
   ]
  },
  {
   "cell_type": "code",
   "execution_count": 30,
   "id": "e0fcc1bf-3bc3-445d-b39d-9f53e91f8af4",
   "metadata": {
    "tags": []
   },
   "outputs": [],
   "source": [
    "all_data.append(mi_fossil_fuels)"
   ]
  },
  {
   "cell_type": "code",
   "execution_count": 35,
   "id": "25fb60e3-f2dc-4096-b5a0-131c8940aded",
   "metadata": {
    "tags": []
   },
   "outputs": [],
   "source": [
    "pa = pd.read_csv(\"indivs_Pennsylvania20.csv\", header=0,  engine=\"python\", encoding_errors = 'ignore', on_bad_lines=\"skip\") \n",
    "#subset the donations made by fossil fuel companies and affiliates\n",
    "pa_fossil_fuels = pa.loc[pa.loc[:, \"Realcode\"].isin(list_fossil_fuels), [\"Employer\"]]\n",
    "pa_fossil_fuels = pa_fossil_fuels.loc[~(pa_fossil_fuels[\"Employer\"] == \"SELF-EMPLOYED\")]\n",
    "pa_fossil_fuels = pa_fossil_fuels.loc[~(pa_fossil_fuels[\"Employer\"] == \"NOT EMPLOYED\")]\n",
    "pa_fossil_fuels = pa_fossil_fuels.loc[~(pa_fossil_fuels[\"Employer\"] == \"RETIRED\")]\n",
    "pa_fossil_fuels = pa_fossil_fuels.loc[~(pa_fossil_fuels[\"Employer\"] == \"SELF\")]\n",
    "pa_fossil_fuels = pa_fossil_fuels.loc[~(pa_fossil_fuels[\"Employer\"] == \"NONE\")]\n",
    "pa_fossil_fuels.columns = [\"Name\"]\n",
    "pa_fossil_fuels = pa_fossil_fuels.drop_duplicates()"
   ]
  },
  {
   "cell_type": "code",
   "execution_count": 36,
   "id": "a80894bc-7761-42dc-b5a7-e47e9eb99f92",
   "metadata": {
    "tags": []
   },
   "outputs": [],
   "source": [
    "all_data.append(pa_fossil_fuels)"
   ]
  },
  {
   "cell_type": "code",
   "execution_count": 5,
   "id": "30469410-93f2-4afd-9b30-0e97f8489134",
   "metadata": {
    "tags": []
   },
   "outputs": [],
   "source": [
    "nc = pd.read_csv(\"indivs_NorthCarolina20.csv\", header=0, usecols = [\"Realcode\", \"Employer\"], engine = \"python\", encoding_errors = 'ignore', on_bad_lines=\"skip\") \n",
    "#subset the donations made by fossil fuel companies and affiliates\n",
    "nc_fossil_fuels = nc.loc[nc.loc[:, \"Realcode\"].isin(list_fossil_fuels), [\"Employer\"]]\n",
    "nc_fossil_fuels = nc_fossil_fuels.loc[~(nc_fossil_fuels[\"Employer\"] == \"SELF-EMPLOYED\")]\n",
    "nc_fossil_fuels = nc_fossil_fuels.loc[~(nc_fossil_fuels[\"Employer\"] == \"NOT EMPLOYED\")]\n",
    "nc_fossil_fuels = nc_fossil_fuels.loc[~(nc_fossil_fuels[\"Employer\"] == \"RETIRED\")]\n",
    "nc_fossil_fuels = nc_fossil_fuels.loc[~(nc_fossil_fuels[\"Employer\"] == \"SELF\")]\n",
    "nc_fossil_fuels = nc_fossil_fuels.loc[~(nc_fossil_fuels[\"Employer\"] == \"NONE\")]\n",
    "nc_fossil_fuels.columns = [\"Name\"]\n",
    "nc_fossil_fuels = nc_fossil_fuels.drop_duplicates()"
   ]
  },
  {
   "cell_type": "code",
   "execution_count": 7,
   "id": "6f4c2571-e30f-47c3-8e7b-4334dae4a7f4",
   "metadata": {
    "tags": []
   },
   "outputs": [],
   "source": [
    "all_data.append(nc_fossil_fuels)"
   ]
  },
  {
   "cell_type": "code",
   "execution_count": 9,
   "id": "09cfa8dd-7793-4805-be6f-806844462dbc",
   "metadata": {
    "tags": []
   },
   "outputs": [],
   "source": [
    "az = pd.read_csv(\"indivs_Arizona20.csv\", header=0, usecols = [\"Realcode\", \"Employer\"], engine = \"python\", encoding_errors = 'ignore', on_bad_lines=\"skip\") \n",
    "#subset the donations made by fossil fuel companies and affiliates\n",
    "az_fossil_fuels = az.loc[az.loc[:, \"Realcode\"].isin(list_fossil_fuels), [\"Employer\"]]\n",
    "az_fossil_fuels = az_fossil_fuels.loc[~(az_fossil_fuels[\"Employer\"] == \"SELF-EMPLOYED\")]\n",
    "az_fossil_fuels = az_fossil_fuels.loc[~(az_fossil_fuels[\"Employer\"] == \"NOT EMPLOYED\")]\n",
    "az_fossil_fuels = az_fossil_fuels.loc[~(az_fossil_fuels[\"Employer\"] == \"RETIRED\")]\n",
    "az_fossil_fuels = az_fossil_fuels.loc[~(az_fossil_fuels[\"Employer\"] == \"SELF\")]\n",
    "az_fossil_fuels = az_fossil_fuels.loc[~(az_fossil_fuels[\"Employer\"] == \"NONE\")]\n",
    "az_fossil_fuels.columns = [\"Name\"]\n",
    "az_fossil_fuels = az_fossil_fuels.drop_duplicates()"
   ]
  },
  {
   "cell_type": "code",
   "execution_count": 10,
   "id": "ab375746-b13d-4fec-b36f-0f0ac166f416",
   "metadata": {
    "tags": []
   },
   "outputs": [],
   "source": [
    "all_data.append(az_fossil_fuels)"
   ]
  },
  {
   "cell_type": "code",
   "execution_count": 11,
   "id": "1cd5c982-a3c9-4435-9870-50d362667dd9",
   "metadata": {
    "tags": []
   },
   "outputs": [],
   "source": [
    "va = pd.read_csv(\"indivs_Virginia20.csv\", header=0, usecols = [\"Realcode\", \"Employer\"], engine = \"python\", encoding_errors = 'ignore', on_bad_lines=\"skip\") \n",
    "#subset the donations made by fossil fuel companies and affiliates\n",
    "va_fossil_fuels = va.loc[va.loc[:, \"Realcode\"].isin(list_fossil_fuels), [\"Employer\"]]\n",
    "va_fossil_fuels = va_fossil_fuels.loc[~(va_fossil_fuels[\"Employer\"] == \"SELF-EMPLOYED\")]\n",
    "va_fossil_fuels = va_fossil_fuels.loc[~(va_fossil_fuels[\"Employer\"] == \"NOT EMPLOYED\")]\n",
    "va_fossil_fuels = va_fossil_fuels.loc[~(va_fossil_fuels[\"Employer\"] == \"RETIRED\")]\n",
    "va_fossil_fuels = va_fossil_fuels.loc[~(va_fossil_fuels[\"Employer\"] == \"SELF\")]\n",
    "va_fossil_fuels = va_fossil_fuels.loc[~(va_fossil_fuels[\"Employer\"] == \"NONE\")]\n",
    "va_fossil_fuels.columns = [\"Name\"]\n",
    "va_fossil_fuels = va_fossil_fuels.drop_duplicates()"
   ]
  },
  {
   "cell_type": "code",
   "execution_count": 12,
   "id": "1dff07d5-89f8-4e0a-b3b5-b53c6c29b35b",
   "metadata": {
    "tags": []
   },
   "outputs": [],
   "source": [
    "all_data.append(va_fossil_fuels)"
   ]
  },
  {
   "cell_type": "markdown",
   "id": "3ddae11a-988f-46eb-afd8-596840225af4",
   "metadata": {},
   "source": [
    "Concatenate all data together into one dataframe."
   ]
  },
  {
   "cell_type": "code",
   "execution_count": 19,
   "id": "b57a3ed7-8d16-4ca8-b087-7890f76cdd58",
   "metadata": {
    "tags": []
   },
   "outputs": [],
   "source": [
    "ff_industry = pd.concat(all_data)\n",
    "ff_industry = ff_industry.loc[~(ff_industry[\"Name\"].isna())]\n",
    "ff_industry[\"Name\"] = ff_industry[\"Name\"].str.upper()\n",
    "ff_industry = ff_industry.drop_duplicates()"
   ]
  },
  {
   "cell_type": "code",
   "execution_count": null,
   "id": "7e3b909e-268b-446b-9ff5-3a8188499924",
   "metadata": {},
   "outputs": [],
   "source": [
    "ff_industry.head()"
   ]
  },
  {
   "cell_type": "code",
   "execution_count": 20,
   "id": "8830ef10-7faf-4205-838e-d21f6f2563a7",
   "metadata": {
    "tags": []
   },
   "outputs": [],
   "source": [
    "ff_industry.to_csv(\"ff_industry.csv\")"
   ]
  },
  {
   "cell_type": "code",
   "execution_count": null,
   "id": "b5ea4a87-66a0-44dd-a820-79c0b330f62f",
   "metadata": {},
   "outputs": [],
   "source": []
  },
  {
   "cell_type": "code",
   "execution_count": null,
   "id": "59f63fb5-351a-4580-8a48-12347c0d8bd9",
   "metadata": {},
   "outputs": [],
   "source": []
  }
 ],
 "metadata": {
  "kernelspec": {
   "display_name": "Python 3 (ipykernel)",
   "language": "python",
   "name": "python3"
  },
  "language_info": {
   "codemirror_mode": {
    "name": "ipython",
    "version": 3
   },
   "file_extension": ".py",
   "mimetype": "text/x-python",
   "name": "python",
   "nbconvert_exporter": "python",
   "pygments_lexer": "ipython3",
   "version": "3.9.7"
  }
 },
 "nbformat": 4,
 "nbformat_minor": 5
}

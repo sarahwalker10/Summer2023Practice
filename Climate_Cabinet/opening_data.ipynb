{
 "cells": [
  {
   "cell_type": "code",
   "execution_count": 1,
   "id": "ebfb89a5-6215-4302-b1d9-788f43e6d345",
   "metadata": {
    "tags": []
   },
   "outputs": [],
   "source": [
    "import pandas as pd"
   ]
  },
  {
   "cell_type": "code",
   "execution_count": null,
   "id": "db626bca-b34b-4584-8782-c0a3993dc268",
   "metadata": {},
   "outputs": [],
   "source": [
    "contrib03 = pd.read_csv(\"contribs_03.csv\", low_memory = False)\n",
    "#column \"filerName\" tells us corp that donated\n",
    "# Contributions - Schedules A/C - Contributions from special session and special pre-election (formerly Telegram) reports are stored\n",
    "#              in the file cont_ss and cont_t. These records are kept separate from the contribs files to avoid creating duplicates, because they\n",
    "#              are supposed to be re-reported on the next regular campaign finance report."
   ]
  },
  {
   "cell_type": "code",
   "execution_count": null,
   "id": "9e4a034a-e407-4b2b-a61d-6965e195c0ef",
   "metadata": {},
   "outputs": [],
   "source": [
    "contrib03.head()"
   ]
  },
  {
   "cell_type": "code",
   "execution_count": null,
   "id": "8c5cacea-57cf-4296-b543-9ba8e1a3d4d5",
   "metadata": {},
   "outputs": [],
   "source": []
  },
  {
   "cell_type": "code",
   "execution_count": null,
   "id": "dedba326-0714-4b84-9d17-cc15bfe01995",
   "metadata": {},
   "outputs": [],
   "source": [
    "cand = pd.read_csv(\"cand.csv\", low_memory = False)\n",
    "#column \"filerName\" tells us corp that donated\n",
    "# Candidate benefiting from a direct campaign expenditure. A direct campaign expenditure to benefit a candidate is not a political \n",
    "#              contribution to that candidate. Instead, a direct campaign expenditure is a campaign expenditure made on someone else's behalf and\n",
    "#              without the prior consent or approval of that person."
   ]
  },
  {
   "cell_type": "code",
   "execution_count": null,
   "id": "630103d7-905f-4952-b938-656aa3897da5",
   "metadata": {},
   "outputs": [],
   "source": [
    "cand.head()"
   ]
  },
  {
   "cell_type": "code",
   "execution_count": null,
   "id": "1d9b42af-a9db-4ebf-926b-c8acdfc831e6",
   "metadata": {},
   "outputs": [],
   "source": []
  },
  {
   "cell_type": "code",
   "execution_count": null,
   "id": "345b136d-1702-4cad-aee7-d5a83a9d49e3",
   "metadata": {},
   "outputs": [],
   "source": [
    "#https://www.ethics.state.tx.us/search/cf/cANDelists2021-2016.php#2020\n",
    "#explore this tomorrow... might be exactly what we need\n",
    "what = pd.read_excel(\"2020_PACs_By_Total_Contribs.xlsx\")\n",
    "what.head()"
   ]
  }
 ],
 "metadata": {
  "kernelspec": {
   "display_name": "Python 3 (ipykernel)",
   "language": "python",
   "name": "python3"
  },
  "language_info": {
   "codemirror_mode": {
    "name": "ipython",
    "version": 3
   },
   "file_extension": ".py",
   "mimetype": "text/x-python",
   "name": "python",
   "nbconvert_exporter": "python",
   "pygments_lexer": "ipython3",
   "version": "3.9.7"
  }
 },
 "nbformat": 4,
 "nbformat_minor": 5
}

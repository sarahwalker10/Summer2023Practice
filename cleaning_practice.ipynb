{
 "cells": [
  {
   "cell_type": "code",
   "execution_count": null,
   "id": "70ab2211-1642-41a0-afb6-7411f6421d4c",
   "metadata": {},
   "outputs": [],
   "source": [
    "# im going to practice cleaning data with IL_ECON sources\n",
    "\n",
    "this is the first thing I do. "
   ]
  }
 ],
 "metadata": {
  "kernelspec": {
   "display_name": "Python 3 (ipykernel)",
   "language": "python",
   "name": "python3"
  },
  "language_info": {
   "codemirror_mode": {
    "name": "ipython",
    "version": 3
   },
   "file_extension": ".py",
   "mimetype": "text/x-python",
   "name": "python",
   "nbconvert_exporter": "python",
   "pygments_lexer": "ipython3",
   "version": "3.9.7"
  }
 },
 "nbformat": 4,
 "nbformat_minor": 5
}

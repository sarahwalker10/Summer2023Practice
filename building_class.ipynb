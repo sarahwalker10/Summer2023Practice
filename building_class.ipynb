{
 "cells": [
  {
   "cell_type": "code",
   "execution_count": 1,
   "id": "1f7fd201-d0a8-479b-8ba8-6f71e7c252c4",
   "metadata": {
    "tags": []
   },
   "outputs": [],
   "source": [
    "import os\n",
    "import pandas"
   ]
  },
  {
   "cell_type": "code",
   "execution_count": 2,
   "id": "3797900e-1b00-4197-8473-bcd0dd7ad41b",
   "metadata": {
    "tags": []
   },
   "outputs": [
    {
     "data": {
      "text/plain": [
       "'/home/jupyter-sarahwalker10/Summer2023Practice'"
      ]
     },
     "execution_count": 2,
     "metadata": {},
     "output_type": "execute_result"
    }
   ],
   "source": [
    "os.getcwd() "
   ]
  },
  {
   "cell_type": "code",
   "execution_count": 2,
   "id": "81ca8bc6-ef63-4546-b688-62752f042c27",
   "metadata": {},
   "outputs": [
    {
     "ename": "IndentationError",
     "evalue": "unindent does not match any outer indentation level (<tokenize>, line 15)",
     "output_type": "error",
     "traceback": [
      "\u001b[0;36m  File \u001b[0;32m<tokenize>:15\u001b[0;36m\u001b[0m\n\u001b[0;31m    def groupbyfunc\u001b[0m\n\u001b[0m    ^\u001b[0m\n\u001b[0;31mIndentationError\u001b[0m\u001b[0;31m:\u001b[0m unindent does not match any outer indentation level\n"
     ]
    }
   ],
   "source": [
    "class AnomalyTracker:\n",
    "    \n",
    "    def __init__(self, path):\n",
    "        \n",
    "        self.path = path\n",
    "        self.listoffiles = os.listdir(path)\n",
    "        \n",
    "    def get_month(self):\n",
    "        \n",
    "    def dfmaker(self):\n",
    "        dot he function \n",
    "        self.height = calculated\n",
    "        \n",
    "    \n",
    "    def groupbyfunc(self):\n",
    "        return anmolydf \n",
    "    \n",
    "    def plotfunc(self):\n",
    "        self.groupbyfunc\n",
    "       \n",
    "    \n",
    "    \n",
    "        "
   ]
  },
  {
   "cell_type": "code",
   "execution_count": null,
   "id": "5f2f99c1-2a3f-44c0-b6c7-975a8b1c3d6b",
   "metadata": {},
   "outputs": [],
   "source": [
    "# Enter the appropriate path for the given device folder you want to look at\n",
    "# ex. path = \"/home/jupyter-sarahwalker10/2023-internet-equity/data/device01\"\n",
    "path = \"\"\n",
    "\n",
    "\n",
    "device1 = AnomalyTracker(path)\n",
    "device1.anomaly_df()\n",
    "device1.dashboard_graph()"
   ]
  },
  {
   "cell_type": "code",
   "execution_count": null,
   "id": "0469ecac-e36c-4aec-8ef5-670362184e2d",
   "metadata": {},
   "outputs": [],
   "source": []
  },
  {
   "cell_type": "code",
   "execution_count": null,
   "id": "77e0fa47-fb84-48b4-af43-48a5a19140fe",
   "metadata": {},
   "outputs": [],
   "source": []
  },
  {
   "cell_type": "code",
   "execution_count": null,
   "id": "b6ccda07-3e80-446b-8fd3-0222ddf94b7a",
   "metadata": {},
   "outputs": [],
   "source": []
  }
 ],
 "metadata": {
  "kernelspec": {
   "display_name": "Python 3 (ipykernel)",
   "language": "python",
   "name": "python3"
  },
  "language_info": {
   "codemirror_mode": {
    "name": "ipython",
    "version": 3
   },
   "file_extension": ".py",
   "mimetype": "text/x-python",
   "name": "python",
   "nbconvert_exporter": "python",
   "pygments_lexer": "ipython3",
   "version": "3.9.7"
  }
 },
 "nbformat": 4,
 "nbformat_minor": 5
}

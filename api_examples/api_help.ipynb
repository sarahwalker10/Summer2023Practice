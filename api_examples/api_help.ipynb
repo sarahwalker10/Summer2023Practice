{
 "cells": [
  {
   "cell_type": "code",
   "execution_count": null,
   "id": "3e292846-1497-4d6a-a7c8-0f39ed772414",
   "metadata": {},
   "outputs": [],
   "source": [
    "    api_response =  api.get_data((branchInfo.loc[i,‘LATITUDE’],branchInfo.loc[i,‘LONGITUDE’]), 5)\n",
    "    branchInfo.loc[i,‘geometry’] = shape(api_response)\n",
    "    oneBranch = gpd.GeoDataFrame(branchInfo.loc[i], geometry=branchInfo[‘geometry’], crs=‘EPSG: 4326’)\n",
    "    #change so this assigns the geometry column the long way##\n",
    "    for index, row in censusTracts.iterrows():\n",
    "      if ((oneBranch.intersection(row[‘geometry’]))[0]).is_empty:\n",
    "         empty=[]\n",
    "         empty.append(“none”)\n",
    "      else:\n",
    "         overlapPolygon = (oneBranch.intersection(row[‘geometry’])[0])\n",
    "         poly_area, poly_perimeter = geod.geometry_area_perimeter(overlapPolygon)\n",
    "         overlapArea = poly_area*-1\n",
    "         propOverlap = overlapArea / row[‘calculated area’]\n",
    "         dictionary[row[‘geoid’]] = propOverlap\n",
    "    branchInfo.loc[i,‘dictionary’]= [dictionary]\n",
    "censusTracts.sort_values(‘score’, ascending = False)"
   ]
  }
 ],
 "metadata": {
  "kernelspec": {
   "display_name": "Python 3 (ipykernel)",
   "language": "python",
   "name": "python3"
  },
  "language_info": {
   "codemirror_mode": {
    "name": "ipython",
    "version": 3
   },
   "file_extension": ".py",
   "mimetype": "text/x-python",
   "name": "python",
   "nbconvert_exporter": "python",
   "pygments_lexer": "ipython3",
   "version": "3.9.7"
  }
 },
 "nbformat": 4,
 "nbformat_minor": 5
}
